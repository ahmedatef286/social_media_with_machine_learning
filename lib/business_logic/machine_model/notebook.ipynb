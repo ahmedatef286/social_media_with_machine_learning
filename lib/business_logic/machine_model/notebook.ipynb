{
 "cells": [
  {
   "cell_type": "code",
   "execution_count": 70,
   "metadata": {},
   "outputs": [
    {
     "name": "stdout",
     "output_type": "stream",
     "text": [
      "Accuracy: 1.0\n",
      "              precision    recall  f1-score   support\n",
      "\n",
      "           0       1.00      1.00      1.00       290\n",
      "           1       1.00      1.00      1.00      3832\n",
      "           2       1.00      1.00      1.00       835\n",
      "\n",
      "    accuracy                           1.00      4957\n",
      "   macro avg       1.00      1.00      1.00      4957\n",
      "weighted avg       1.00      1.00      1.00      4957\n",
      "\n"
     ]
    }
   ],
   "source": [
    "from sklearn.model_selection import train_test_split\n",
    "from sklearn.feature_extraction.text import TfidfVectorizer\n",
    "from scipy.sparse import hstack\n",
    "from sklearn.ensemble import RandomForestClassifier\n",
    "from sklearn.metrics import accuracy_score, classification_report\n",
    "from sklearn.linear_model import LogisticRegression\n",
    "import pandas as pd\n",
    "\n",
    "\n",
    "df = pd.read_csv('labeled_data.csv')\n",
    "# Assume 'df' is your DataFrame with the dataset\n",
    "X = df[['tweet', 'count', 'offensive_language', 'hate_speech' , 'neither']]\n",
    "y = df['class']\n",
    "\n",
    "# Split the dataset into training and validation sets\n",
    "X_train, X_val, y_train, y_val = train_test_split(X, y, test_size=0.2, random_state=42)\n",
    "\n",
    "df['tweet'] = df['tweet'].apply(lambda x: x.lower())  # Convert to lowercase\n",
    "df['tweet'] = df['tweet'].replace('[^a-zA-Z0-9]', ' ', regex=True)  # Remove special characters\n",
    "\n",
    "# Convert text to numerical features using TF-IDF\n",
    "tfidf_vectorizer = TfidfVectorizer(max_features=5000)\n",
    "X_train_tfidf = tfidf_vectorizer.fit_transform(X_train['tweet'])\n",
    "X_val_tfidf = tfidf_vectorizer.transform(X_val['tweet'])\n",
    "\n",
    "# Concatenate TF-IDF features with other numerical features\n",
    "X_train_final = X_train[['count', 'offensive_language', 'hate_speech','neither']].values\n",
    "X_train_final = hstack([X_train_tfidf, X_train_final])\n",
    "X_val_final = X_val[['count', 'offensive_language', 'hate_speech','neither']].values\n",
    "X_val_final = hstack([X_val_tfidf, X_val_final])\n",
    "\n",
    "# Train a model (e.g., RandomForestClassifier)\n",
    "clf =  LogisticRegression()\n",
    "clf.fit(X_train_final, y_train)\n",
    "\n",
    "# Make predictions\n",
    "predictions = clf.predict(X_val_final)\n",
    "\n",
    "# Evaluate the model\n",
    "accuracy = accuracy_score(y_val, predictions)\n",
    "print(f\"Accuracy: {accuracy}\")\n",
    "print(classification_report(y_val, predictions))\n"
   ]
  },
  {
   "cell_type": "code",
   "execution_count": 78,
   "metadata": {},
   "outputs": [
    {
     "name": "stdout",
     "output_type": "stream",
     "text": [
      "The prediction for the sentence is: 2\n"
     ]
    }
   ],
   "source": [
    "# Example sentence\n",
    "new_sentence ='  '\n",
    "\n",
    "# Preprocess the new sentence\n",
    "new_sentence = new_sentence.lower()\n",
    "new_sentence = pd.Series(new_sentence).replace('[^a-zA-Z0-9]', ' ', regex=True)[0]\n",
    "\n",
    "# Convert the new sentence to TF-IDF features\n",
    "new_sentence_tfidf = tfidf_vectorizer.transform([new_sentence])\n",
    "\n",
    "# Add other numerical features if needed\n",
    "# Example:\n",
    "new_numerical_features = [3, 1, 1, 1]  # Replace with your own numerical features\n",
    "new_sentence_final = hstack([new_sentence_tfidf, new_numerical_features])\n",
    "\n",
    "# Make predictions for the new sentence\n",
    "prediction = clf.predict(new_sentence_final)\n",
    "\n",
    "# Print the prediction\n",
    "print(f\"The prediction for the sentence is: {prediction[0]}\")"
   ]
  }
 ],
 "metadata": {
  "kernelspec": {
   "display_name": "Python 3",
   "language": "python",
   "name": "python3"
  },
  "language_info": {
   "codemirror_mode": {
    "name": "ipython",
    "version": 3
   },
   "file_extension": ".py",
   "mimetype": "text/x-python",
   "name": "python",
   "nbconvert_exporter": "python",
   "pygments_lexer": "ipython3",
   "version": "3.12.0"
  }
 },
 "nbformat": 4,
 "nbformat_minor": 2
}
